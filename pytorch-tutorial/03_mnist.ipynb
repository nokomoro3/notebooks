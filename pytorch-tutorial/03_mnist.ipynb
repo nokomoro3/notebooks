{
 "cells": [
  {
   "cell_type": "markdown",
   "id": "c210099f-2a18-4acd-a42c-9fa36bfe0fcc",
   "metadata": {},
   "source": [
    "### Imports"
   ]
  },
  {
   "cell_type": "code",
   "execution_count": 1,
   "id": "0abae8e8-21a4-4659-942a-7dddffed7f79",
   "metadata": {},
   "outputs": [],
   "source": [
    "import pathlib\n",
    "import torch\n",
    "import torchvision\n",
    "from torchvision.datasets import MNIST\n",
    "from PIL import Image\n",
    "from matplotlib import pyplot as plt\n",
    "import seaborn as sns\n",
    "# sns.set()\n",
    "import numpy as np"
   ]
  },
  {
   "cell_type": "markdown",
   "id": "0d94766d-ea1f-4c57-9120-bedbe72544b5",
   "metadata": {},
   "source": [
    "### Load dataset"
   ]
  },
  {
   "cell_type": "code",
   "execution_count": 2,
   "id": "5d730384-7c75-4069-bb17-ada8703cbfa4",
   "metadata": {},
   "outputs": [
    {
     "name": "stderr",
     "output_type": "stream",
     "text": [
      "/usr/local/lib/python3.8/site-packages/torchvision/datasets/mnist.py:498: UserWarning: The given NumPy array is not writeable, and PyTorch does not support non-writeable tensors. This means you can write to the underlying (supposedly non-writeable) NumPy array using the tensor. You may want to copy the array to protect its data or make it writeable before converting it to a tensor. This type of warning will be suppressed for the rest of this program. (Triggered internally at  ../torch/csrc/utils/tensor_numpy.cpp:180.)\n",
      "  return torch.from_numpy(parsed.astype(m[2], copy=False)).view(*s)\n"
     ]
    }
   ],
   "source": [
    "dataset = MNIST(root=pathlib.Path('./input'), download=True)"
   ]
  },
  {
   "cell_type": "markdown",
   "id": "aab18b35-6696-4243-8bbc-1344b4922f69",
   "metadata": {},
   "source": [
    "- train, testは既に分かれている状態のようだ。\n",
    "  - 実務では、MNISTというクラスと同じようなものをデータ毎に作成する必要がある。"
   ]
  },
  {
   "cell_type": "code",
   "execution_count": 37,
   "id": "b25e260f-972c-4a8d-8bf4-f82754916427",
   "metadata": {},
   "outputs": [
    {
     "data": {
      "text/plain": [
       "'train_num: 60000, test_num: 10000'"
      ]
     },
     "metadata": {},
     "output_type": "display_data"
    }
   ],
   "source": [
    "dataset_tr = MNIST(root=pathlib.Path('./input'), train=True)\n",
    "dataset_tt = MNIST(root=pathlib.Path('./input'), train=False)\n",
    "display(f\"train_num: {len(dataset_tr)}, test_num: {len(dataset_tt)}\")"
   ]
  },
  {
   "cell_type": "markdown",
   "id": "da1c6cd8-b604-42bc-963b-163a3e624cab",
   "metadata": {},
   "source": [
    "- 1サンプルのデータは、tupleとなっており、画像データとラベルの組である。\n",
    "  - PIL.Imageは画像を扱うデータタイプ。\n",
    "  - PIL自体は、更新が2009年で止まっているライブラリだが、<br>\n",
    "  歴史的経緯からデータ型としては残っているようだ。\n",
    "  - PILは今は、Pillowにフォークしている。"
   ]
  },
  {
   "cell_type": "code",
   "execution_count": 4,
   "id": "1b2d666d-2f43-4d39-a8bf-c405f0b1d0fc",
   "metadata": {},
   "outputs": [
    {
     "data": {
      "text/plain": [
       "\"type: <class 'tuple'>\""
      ]
     },
     "metadata": {},
     "output_type": "display_data"
    },
    {
     "data": {
      "text/plain": [
       "'value: (<PIL.Image.Image image mode=L size=28x28 at 0x7FA4451F2850>, 5)'"
      ]
     },
     "metadata": {},
     "output_type": "display_data"
    },
    {
     "data": {
      "text/plain": [
       "\"type: <class 'tuple'>\""
      ]
     },
     "metadata": {},
     "output_type": "display_data"
    },
    {
     "data": {
      "text/plain": [
       "'value: (<PIL.Image.Image image mode=L size=28x28 at 0x7FA4451F2850>, 7)'"
      ]
     },
     "metadata": {},
     "output_type": "display_data"
    }
   ],
   "source": [
    "display(f\"type: {type(dataset_tr[0])}\")\n",
    "display(f\"value: {dataset_tr[0]}\")\n",
    "display(f\"type: {type(dataset_tt[0])}\")\n",
    "display(f\"value: {dataset_tt[0]}\")"
   ]
  },
  {
   "cell_type": "markdown",
   "id": "5848af55-601e-4a3e-9f23-09edf118b019",
   "metadata": {},
   "source": [
    "- PIL.Image.Imageは、numpyと相互変換できる。\n",
    "  - dtypeはuint8になっているようだ。"
   ]
  },
  {
   "cell_type": "code",
   "execution_count": 40,
   "id": "64a88973-4e23-4ff7-9a35-d857e20beb24",
   "metadata": {},
   "outputs": [
    {
     "data": {
      "text/plain": [
       "\"type: <class 'numpy.ndarray'>, dtype: uint8, shape: (28, 28)\""
      ]
     },
     "metadata": {},
     "output_type": "display_data"
    },
    {
     "data": {
      "image/png": "[encoded data removed]",
      "text/plain": [
       "<PIL.Image.Image image mode=L size=28x28 at 0x7FA4451F22B0>"
      ]
     },
     "metadata": {},
     "output_type": "display_data"
    }
   ],
   "source": [
    "arr = np.asarray(dataset_tr[0][0])\n",
    "display(f\"type: {type(arr)}, dtype: {arr.dtype}, shape: {arr.shape}\")\n",
    "\n",
    "img = Image.fromarray(arr)\n",
    "display(img)"
   ]
  },
  {
   "cell_type": "markdown",
   "id": "fd83a91d-2e20-4d62-8b8a-314bcec09d4b",
   "metadata": {},
   "source": [
    "- 画像を見るとこんな感じ。"
   ]
  },
  {
   "cell_type": "code",
   "execution_count": 41,
   "id": "4bbfaff2-64d3-470f-b5a1-3bbd7581a506",
   "metadata": {},
   "outputs": [
    {
     "data": {
      "text/plain": [
       "'label: 7'"
      ]
     },
     "metadata": {},
     "output_type": "display_data"
    },
    {
     "data": {
      "text/plain": [
       "<matplotlib.image.AxesImage at 0x7fa43fce3fd0>"
      ]
     },
     "execution_count": 41,
     "metadata": {},
     "output_type": "execute_result"
    },
    {
     "data": {
      "image/png": "[encoded data removed]",
      "text/plain": [
       "<Figure size 432x288 with 1 Axes>"
      ]
     },
     "metadata": {
      "needs_background": "light"
     },
     "output_type": "display_data"
    }
   ],
   "source": [
    "image, label = dataset_tr[1001]\n",
    "display(f\"label: {label}\")\n",
    "plt.imshow(image, cmap='gray')"
   ]
  },
  {
   "cell_type": "markdown",
   "id": "9e625758-ce63-426c-8d59-d320ad16e879",
   "metadata": {},
   "source": [
    "- 実際には、numpy変換にしなくとも、MNISTというモジュールで良い感じにtensorにしてくれる。\n",
    "  - この良い感じにする部分は、自分で作れる必要があるんだろう。\n",
    "- 形式がtensorになっているだけではなく、0～1に勝手に正規化してる部分は少し癖つよい。"
   ]
  },
  {
   "cell_type": "code",
   "execution_count": 42,
   "id": "56a51497-9d8b-4999-b86d-840c6ac5688f",
   "metadata": {},
   "outputs": [
    {
     "data": {
      "text/plain": [
       "\"type: <class 'torch.Tensor'>, dtype: torch.float32, shape: torch.Size([1, 28, 28])\""
      ]
     },
     "metadata": {},
     "output_type": "display_data"
    },
    {
     "data": {
      "text/plain": [
       "\"type: <class 'int'>\""
      ]
     },
     "metadata": {},
     "output_type": "display_data"
    }
   ],
   "source": [
    "import torchvision.transforms as transforms\n",
    "dataset_tr = MNIST(root='./input', \n",
    "                train=True,\n",
    "                transform=transforms.ToTensor())\n",
    "\n",
    "image, label = dataset_tr[1001]\n",
    "\n",
    "display(f\"type: {type(image)}, dtype: {image.dtype}, shape: {image.shape}\")\n",
    "display(f\"type: {type(label)}\")"
   ]
  },
  {
   "cell_type": "markdown",
   "id": "a2f3b4f7-d69a-46ef-83b8-daeb8d18a48d",
   "metadata": {},
   "source": [
    "- そしてこの"
   ]
  },
  {
   "cell_type": "code",
   "execution_count": null,
   "id": "2514cc95-4787-487c-b353-bfcd363ce3f0",
   "metadata": {},
   "outputs": [],
   "source": []
  },
  {
   "cell_type": "code",
   "execution_count": null,
   "id": "19150285-f8a8-41ae-8582-76ab2ec7f269",
   "metadata": {},
   "outputs": [],
   "source": []
  },
  {
   "cell_type": "code",
   "execution_count": null,
   "id": "053571c2-174b-4c42-8de6-cbd6ae1ad018",
   "metadata": {},
   "outputs": [],
   "source": []
  }
 ],
 "metadata": {
  "kernelspec": {
   "display_name": "app",
   "language": "python",
   "name": "app"
  },
  "language_info": {
   "codemirror_mode": {
    "name": "ipython",
    "version": 3
   },
   "file_extension": ".py",
   "mimetype": "text/x-python",
   "name": "python",
   "nbconvert_exporter": "python",
   "pygments_lexer": "ipython3",
   "version": "3.8.12"
  }
 },
 "nbformat": 4,
 "nbformat_minor": 5
}
