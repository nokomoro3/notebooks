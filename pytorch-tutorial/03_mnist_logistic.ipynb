{
 "cells": [
  {
   "cell_type": "markdown",
   "id": "e5251d8c-62a4-436b-b167-77357db6b503",
   "metadata": {
    "id": "l92fnMTyG2qf"
   },
   "source": [
    "### References\n",
    "- https://jovian.ai/aakashns/03-logistic-regression"
   ]
  },
  {
   "cell_type": "markdown",
   "id": "0d607289-20db-42e8-8f86-ac15d0d285ee",
   "metadata": {},
   "source": [
    "### Imports"
   ]
  },
  {
   "cell_type": "code",
   "execution_count": 1,
   "id": "0abae8e8-21a4-4659-942a-7dddffed7f79",
   "metadata": {},
   "outputs": [],
   "source": [
    "import pathlib\n",
    "import torch\n",
    "import torchvision\n",
    "from torchvision.datasets import MNIST\n",
    "from PIL import Image\n",
    "from matplotlib import pyplot as plt\n",
    "import seaborn as sns\n",
    "# sns.set()\n",
    "import numpy as np\n",
    "import torchvision.transforms as transforms"
   ]
  },
  {
   "cell_type": "markdown",
   "id": "4d9209e3-7c51-479a-830c-6de423228400",
   "metadata": {},
   "source": [
    "### IO\n",
    "\n",
    "- 入出力ファイルの場所は先頭に記述する方が、後からわかりやすい。"
   ]
  },
  {
   "cell_type": "code",
   "execution_count": 26,
   "id": "44bbd23e-bfb9-4371-bbfa-4e9c6ac83933",
   "metadata": {},
   "outputs": [],
   "source": [
    "INPUT_DOWNLOAD_PATH = pathlib.Path('./data').joinpath('03_mnist', 'input')\n",
    "\n",
    "pathlib.Path('./data').joinpath('03_mnist', 'output').mkdir(parents=True, exist_ok=True)\n",
    "OUTPUT_MODEL_FILE = pathlib.Path('./data').joinpath('03_mnist', 'output', 'mnist-logistic.pth')"
   ]
  },
  {
   "cell_type": "markdown",
   "id": "0d94766d-ea1f-4c57-9120-bedbe72544b5",
   "metadata": {},
   "source": [
    "### Load dataset"
   ]
  },
  {
   "cell_type": "code",
   "execution_count": 3,
   "id": "5d730384-7c75-4069-bb17-ada8703cbfa4",
   "metadata": {},
   "outputs": [
    {
     "name": "stdout",
     "output_type": "stream",
     "text": [
      "Downloading http://yann.lecun.com/exdb/mnist/train-images-idx3-ubyte.gz\n",
      "Downloading http://yann.lecun.com/exdb/mnist/train-images-idx3-ubyte.gz to data/03_mnist/input/MNIST/raw/train-images-idx3-ubyte.gz\n"
     ]
    },
    {
     "data": {
      "application/vnd.jupyter.widget-view+json": {
       "model_id": "1f6384efaaab41e9a33d243bda1e10b4",
       "version_major": 2,
       "version_minor": 0
      },
      "text/plain": [
       "  0%|          | 0/9912422 [00:00<?, ?it/s]"
      ]
     },
     "metadata": {},
     "output_type": "display_data"
    },
    {
     "name": "stdout",
     "output_type": "stream",
     "text": [
      "Extracting data/03_mnist/input/MNIST/raw/train-images-idx3-ubyte.gz to data/03_mnist/input/MNIST/raw\n",
      "\n",
      "Downloading http://yann.lecun.com/exdb/mnist/train-labels-idx1-ubyte.gz\n",
      "Downloading http://yann.lecun.com/exdb/mnist/train-labels-idx1-ubyte.gz to data/03_mnist/input/MNIST/raw/train-labels-idx1-ubyte.gz\n"
     ]
    },
    {
     "data": {
      "application/vnd.jupyter.widget-view+json": {
       "model_id": "1d51d0d615104ecab4763780f659ffa5",
       "version_major": 2,
       "version_minor": 0
      },
      "text/plain": [
       "  0%|          | 0/28881 [00:00<?, ?it/s]"
      ]
     },
     "metadata": {},
     "output_type": "display_data"
    },
    {
     "name": "stdout",
     "output_type": "stream",
     "text": [
      "Extracting data/03_mnist/input/MNIST/raw/train-labels-idx1-ubyte.gz to data/03_mnist/input/MNIST/raw\n",
      "\n",
      "Downloading http://yann.lecun.com/exdb/mnist/t10k-images-idx3-ubyte.gz\n",
      "Downloading http://yann.lecun.com/exdb/mnist/t10k-images-idx3-ubyte.gz to data/03_mnist/input/MNIST/raw/t10k-images-idx3-ubyte.gz\n"
     ]
    },
    {
     "data": {
      "application/vnd.jupyter.widget-view+json": {
       "model_id": "569eefa9771d41b99a9e3029876da613",
       "version_major": 2,
       "version_minor": 0
      },
      "text/plain": [
       "  0%|          | 0/1648877 [00:00<?, ?it/s]"
      ]
     },
     "metadata": {},
     "output_type": "display_data"
    },
    {
     "name": "stdout",
     "output_type": "stream",
     "text": [
      "Extracting data/03_mnist/input/MNIST/raw/t10k-images-idx3-ubyte.gz to data/03_mnist/input/MNIST/raw\n",
      "\n",
      "Downloading http://yann.lecun.com/exdb/mnist/t10k-labels-idx1-ubyte.gz\n",
      "Downloading http://yann.lecun.com/exdb/mnist/t10k-labels-idx1-ubyte.gz to data/03_mnist/input/MNIST/raw/t10k-labels-idx1-ubyte.gz\n"
     ]
    },
    {
     "data": {
      "application/vnd.jupyter.widget-view+json": {
       "model_id": "940a72f46457414b910114b81a846f45",
       "version_major": 2,
       "version_minor": 0
      },
      "text/plain": [
       "  0%|          | 0/4542 [00:00<?, ?it/s]"
      ]
     },
     "metadata": {},
     "output_type": "display_data"
    },
    {
     "name": "stdout",
     "output_type": "stream",
     "text": [
      "Extracting data/03_mnist/input/MNIST/raw/t10k-labels-idx1-ubyte.gz to data/03_mnist/input/MNIST/raw\n",
      "\n"
     ]
    },
    {
     "name": "stderr",
     "output_type": "stream",
     "text": [
      "/usr/local/lib/python3.8/site-packages/torchvision/datasets/mnist.py:498: UserWarning: The given NumPy array is not writeable, and PyTorch does not support non-writeable tensors. This means you can write to the underlying (supposedly non-writeable) NumPy array using the tensor. You may want to copy the array to protect its data or make it writeable before converting it to a tensor. This type of warning will be suppressed for the rest of this program. (Triggered internally at  ../torch/csrc/utils/tensor_numpy.cpp:180.)\n",
      "  return torch.from_numpy(parsed.astype(m[2], copy=False)).view(*s)\n"
     ]
    }
   ],
   "source": [
    "ds = MNIST(root=INPUT_DOWNLOAD_PATH, download=True)"
   ]
  },
  {
   "cell_type": "markdown",
   "id": "aab18b35-6696-4243-8bbc-1344b4922f69",
   "metadata": {},
   "source": [
    "- train, testは既に分かれている状態のようだ。\n",
    "  - 実務では、MNISTというクラスと同じようなものをデータ毎に作成する必要がある。"
   ]
  },
  {
   "cell_type": "code",
   "execution_count": 4,
   "id": "b25e260f-972c-4a8d-8bf4-f82754916427",
   "metadata": {},
   "outputs": [
    {
     "data": {
      "text/plain": [
       "'train_num: 60000, test_num: 10000'"
      ]
     },
     "metadata": {},
     "output_type": "display_data"
    }
   ],
   "source": [
    "train_ds = MNIST(root=INPUT_DOWNLOAD_PATH, train=True)\n",
    "test_ds = MNIST(root=INPUT_DOWNLOAD_PATH, train=False)\n",
    "display(f\"train_num: {len(train_ds)}, test_num: {len(test_ds)}\")"
   ]
  },
  {
   "cell_type": "markdown",
   "id": "da1c6cd8-b604-42bc-963b-163a3e624cab",
   "metadata": {},
   "source": [
    "- 1サンプルのデータは、tupleとなっており、画像データとラベルの組である。\n",
    "  - PIL.Imageは画像を扱うデータタイプ。\n",
    "  - PIL自体は、更新が2009年で止まっているライブラリだが、<br>\n",
    "  歴史的経緯からデータ型としては残っているようだ。\n",
    "  - PILは今は、Pillowにフォークしている。"
   ]
  },
  {
   "cell_type": "code",
   "execution_count": 5,
   "id": "1b2d666d-2f43-4d39-a8bf-c405f0b1d0fc",
   "metadata": {},
   "outputs": [
    {
     "data": {
      "text/plain": [
       "\"type: <class 'tuple'>\""
      ]
     },
     "metadata": {},
     "output_type": "display_data"
    },
    {
     "data": {
      "text/plain": [
       "'value: (<PIL.Image.Image image mode=L size=28x28 at 0x7F4175C6B610>, 5)'"
      ]
     },
     "metadata": {},
     "output_type": "display_data"
    },
    {
     "data": {
      "text/plain": [
       "\"type: <class 'tuple'>\""
      ]
     },
     "metadata": {},
     "output_type": "display_data"
    },
    {
     "data": {
      "text/plain": [
       "'value: (<PIL.Image.Image image mode=L size=28x28 at 0x7F4175C6B610>, 7)'"
      ]
     },
     "metadata": {},
     "output_type": "display_data"
    }
   ],
   "source": [
    "display(f\"type: {type(train_ds[0])}\")\n",
    "display(f\"value: {train_ds[0]}\")\n",
    "display(f\"type: {type(test_ds[0])}\")\n",
    "display(f\"value: {test_ds[0]}\")"
   ]
  },
  {
   "cell_type": "markdown",
   "id": "5848af55-601e-4a3e-9f23-09edf118b019",
   "metadata": {},
   "source": [
    "- PIL.Image.Imageは、numpyと相互変換できる。\n",
    "  - dtypeはuint8になっているようだ。"
   ]
  },
  {
   "cell_type": "code",
   "execution_count": 6,
   "id": "64a88973-4e23-4ff7-9a35-d857e20beb24",
   "metadata": {},
   "outputs": [
    {
     "data": {
      "text/plain": [
       "\"type: <class 'numpy.ndarray'>, dtype: uint8, shape: (28, 28)\""
      ]
     },
     "metadata": {},
     "output_type": "display_data"
    },
    {
     "data": {
      "image/png": "[encoded data removed]",
      "text/plain": [
       "<PIL.Image.Image image mode=L size=28x28 at 0x7F4175C30B80>"
      ]
     },
     "metadata": {},
     "output_type": "display_data"
    }
   ],
   "source": [
    "arr = np.asarray(train_ds[0][0])\n",
    "display(f\"type: {type(arr)}, dtype: {arr.dtype}, shape: {arr.shape}\")\n",
    "\n",
    "img = Image.fromarray(arr)\n",
    "display(img)"
   ]
  },
  {
   "cell_type": "markdown",
   "id": "fd83a91d-2e20-4d62-8b8a-314bcec09d4b",
   "metadata": {},
   "source": [
    "- 画像を見るとこんな感じ。"
   ]
  },
  {
   "cell_type": "code",
   "execution_count": 7,
   "id": "4bbfaff2-64d3-470f-b5a1-3bbd7581a506",
   "metadata": {},
   "outputs": [
    {
     "data": {
      "text/plain": [
       "'label: 5'"
      ]
     },
     "metadata": {},
     "output_type": "display_data"
    },
    {
     "data": {
      "text/plain": [
       "<matplotlib.image.AxesImage at 0x7f41743dbb20>"
      ]
     },
     "execution_count": 7,
     "metadata": {},
     "output_type": "execute_result"
    },
    {
     "data": {
      "image/png": "[encoded data removed]",
      "text/plain": [
       "<Figure size 432x288 with 1 Axes>"
      ]
     },
     "metadata": {
      "needs_background": "light"
     },
     "output_type": "display_data"
    }
   ],
   "source": [
    "image, label = train_ds[0]\n",
    "display(f\"label: {label}\")\n",
    "plt.imshow(image, cmap='gray')"
   ]
  },
  {
   "cell_type": "markdown",
   "id": "9e625758-ce63-426c-8d59-d320ad16e879",
   "metadata": {},
   "source": [
    "- 実際には、numpy変換にしなくとも、MNISTというモジュールで良い感じにtensorにしてくれる。\n",
    "  - この良い感じにする部分は、自分で作れる必要があるんだろう。\n",
    "- 形式がtensorになっているだけではなく、0～1に勝手に正規化してる部分は少し癖つよい。"
   ]
  },
  {
   "cell_type": "code",
   "execution_count": 8,
   "id": "56a51497-9d8b-4999-b86d-840c6ac5688f",
   "metadata": {},
   "outputs": [
    {
     "data": {
      "text/plain": [
       "\"type: <class 'torch.Tensor'>, dtype: torch.float32, shape: torch.Size([1, 28, 28])\""
      ]
     },
     "metadata": {},
     "output_type": "display_data"
    },
    {
     "data": {
      "text/plain": [
       "\"type: <class 'int'>\""
      ]
     },
     "metadata": {},
     "output_type": "display_data"
    }
   ],
   "source": [
    "train_ds = MNIST(root=INPUT_DOWNLOAD_PATH, \n",
    "                train=True,\n",
    "                transform=transforms.ToTensor())\n",
    "\n",
    "test_ds = MNIST(root=INPUT_DOWNLOAD_PATH, \n",
    "                train=False,\n",
    "                transform=transforms.ToTensor())\n",
    "\n",
    "image, label = train_ds[0]\n",
    "\n",
    "display(f\"type: {type(image)}, dtype: {image.dtype}, shape: {image.shape}\")\n",
    "display(f\"type: {type(label)}\")"
   ]
  },
  {
   "cell_type": "markdown",
   "id": "a2f3b4f7-d69a-46ef-83b8-daeb8d18a48d",
   "metadata": {},
   "source": [
    "### Train Valid分割\n",
    "\n",
    "- Deep Learningモデルはパラメータが膨大なことが多いため、過学習状態になる可能性が高い。\n",
    "- 過学習にならないようにするため、Validationは必須である。\n",
    "- そのため、データセットは通常、３つに分割される。\n",
    "  - Train ... モデルのパラメータ更新に使う学習データ\n",
    "  - Valid ... モデルが過学習になっていないか、学習中に確認するためのデータ\n",
    "  - Test ... 最後の評価にしか使わないデータ\n",
    "- 学習データとはTrain+Validを意味する場合もあれば、Trainのみを意味する場合もある。\n",
    "- 余談\n",
    "  - Testは未使用の評価にしか使わない位置づけだが、実際はTestの性能を見ながら、色々試すため、<br>\n",
    "    完全な未使用状態は保てない（１回使ったら、厳しい目では使用済みデータとなる。）\n",
    "  - そういう意味では、完全なTestデータは存在しないと認識しておいた方が良い。"
   ]
  },
  {
   "cell_type": "code",
   "execution_count": 9,
   "id": "2514cc95-4787-487c-b353-bfcd363ce3f0",
   "metadata": {},
   "outputs": [
    {
     "data": {
      "text/plain": [
       "(50000, 10000)"
      ]
     },
     "execution_count": 9,
     "metadata": {},
     "output_type": "execute_result"
    }
   ],
   "source": [
    "from torch.utils.data import random_split\n",
    "\n",
    "train_ds, val_ds = random_split(train_ds, [50000, 10000])\n",
    "len(train_ds), len(val_ds)"
   ]
  },
  {
   "cell_type": "markdown",
   "id": "9f3da7ff-368c-461d-b9ee-147b7a26256a",
   "metadata": {},
   "source": [
    "### DataLoader"
   ]
  },
  {
   "cell_type": "code",
   "execution_count": 10,
   "id": "19150285-f8a8-41ae-8582-76ab2ec7f269",
   "metadata": {},
   "outputs": [],
   "source": [
    "from torch.utils.data import DataLoader\n",
    "\n",
    "batch_size = 128\n",
    "\n",
    "train_loader = DataLoader(train_ds, batch_size, shuffle=True)\n",
    "val_loader = DataLoader(val_ds, batch_size)"
   ]
  },
  {
   "cell_type": "code",
   "execution_count": 11,
   "id": "80a63c91-14c1-4218-ad82-b01e965d9e11",
   "metadata": {},
   "outputs": [
    {
     "data": {
      "text/plain": [
       "torch.Size([128])"
      ]
     },
     "metadata": {},
     "output_type": "display_data"
    },
    {
     "data": {
      "text/plain": [
       "torch.Size([128, 1, 28, 28])"
      ]
     },
     "metadata": {},
     "output_type": "display_data"
    }
   ],
   "source": [
    "# DataLoaderテスト\n",
    "for images, labels in train_loader:\n",
    "    display(labels.shape)\n",
    "    display(images.shape)\n",
    "    break"
   ]
  },
  {
   "cell_type": "markdown",
   "id": "ff86cc40-f418-44ae-9d40-af1c186e951e",
   "metadata": {},
   "source": [
    "### Model\n",
    "\n",
    "- 線形分類モデルを作成したいですが、nn.Linearの入力と合わないため独自モデル定義の練習台にしている。\n",
    "- input_shapeやnum_classesは外から与えられるべきなので、コンストラクタの引数にした。"
   ]
  },
  {
   "cell_type": "code",
   "execution_count": 12,
   "id": "053571c2-174b-4c42-8de6-cbd6ae1ad018",
   "metadata": {},
   "outputs": [
    {
     "data": {
      "text/plain": [
       "'dtype: torch.float32, shape: torch.Size([10, 784])'"
      ]
     },
     "metadata": {},
     "output_type": "display_data"
    },
    {
     "data": {
      "text/plain": [
       "Parameter containing:\n",
       "tensor([[ 0.0219,  0.0259, -0.0328,  ...,  0.0002,  0.0043, -0.0286],\n",
       "        [ 0.0136, -0.0014,  0.0157,  ..., -0.0265, -0.0170, -0.0042],\n",
       "        [-0.0223,  0.0041, -0.0296,  ...,  0.0251,  0.0235,  0.0285],\n",
       "        ...,\n",
       "        [-0.0202, -0.0075, -0.0152,  ..., -0.0135, -0.0003,  0.0325],\n",
       "        [-0.0126,  0.0172, -0.0016,  ..., -0.0209, -0.0109, -0.0210],\n",
       "        [ 0.0031,  0.0345,  0.0204,  ...,  0.0288,  0.0205, -0.0262]],\n",
       "       requires_grad=True)"
      ]
     },
     "metadata": {},
     "output_type": "display_data"
    },
    {
     "data": {
      "text/plain": [
       "'dtype: torch.float32, shape: torch.Size([10])'"
      ]
     },
     "metadata": {},
     "output_type": "display_data"
    },
    {
     "data": {
      "text/plain": [
       "Parameter containing:\n",
       "tensor([ 0.0091, -0.0003,  0.0120, -0.0277,  0.0072, -0.0092, -0.0202, -0.0173,\n",
       "        -0.0343,  0.0325], requires_grad=True)"
      ]
     },
     "metadata": {},
     "output_type": "display_data"
    }
   ],
   "source": [
    "import torch.nn as nn\n",
    "\n",
    "class CustomModel(nn.Module):\n",
    "    def __init__(self, input_shape, num_classes):\n",
    "        super().__init__()\n",
    "        \n",
    "        input_size = 1\n",
    "        for i in input_shape[1:]:\n",
    "            input_size = input_size * i\n",
    "        self.linear = nn.Linear(input_size, num_classes)\n",
    "        \n",
    "        self.input_size = input_size\n",
    "        \n",
    "    def forward(self, xb):\n",
    "        xb = xb.reshape(-1, self.input_size)\n",
    "        out = self.linear(xb)\n",
    "        return out\n",
    "    \n",
    "model = CustomModel(images.shape, 10)\n",
    "\n",
    "for p in model.parameters():\n",
    "    display(f\"dtype: {p.dtype}, shape: {p.shape}\")\n",
    "    display(p)"
   ]
  },
  {
   "cell_type": "markdown",
   "id": "53ba5f40-6c20-42dd-91fb-5a8c4baecd0c",
   "metadata": {},
   "source": [
    "- 推論のテスト\n",
    "  - 出力はバッチサイズ128 x クラス数10となる。"
   ]
  },
  {
   "cell_type": "code",
   "execution_count": 13,
   "id": "d6205791-95ff-4486-b08c-6a8fe199dd55",
   "metadata": {},
   "outputs": [
    {
     "data": {
      "text/plain": [
       "'dtype: torch.float32, shape: torch.Size([128, 10])'"
      ]
     },
     "metadata": {},
     "output_type": "display_data"
    },
    {
     "data": {
      "text/plain": [
       "tensor([[-0.2198, -0.3558, -0.1824,  ...,  0.0079,  0.0074,  0.1941],\n",
       "        [-0.0332, -0.2391, -0.0804,  ..., -0.0520,  0.1393, -0.0013],\n",
       "        [-0.6905,  0.0435,  0.1895,  ..., -0.0985,  0.0189, -0.1476],\n",
       "        ...,\n",
       "        [-0.2222, -0.1789, -0.2740,  ..., -0.1612, -0.1849,  0.0231],\n",
       "        [-0.1623, -0.2849, -0.0308,  ...,  0.3096, -0.0524,  0.1756],\n",
       "        [-0.0024,  0.0373, -0.2624,  ..., -0.2701, -0.1891,  0.1391]],\n",
       "       grad_fn=<AddmmBackward>)"
      ]
     },
     "metadata": {},
     "output_type": "display_data"
    }
   ],
   "source": [
    "outputs = model(images)\n",
    "outputs\n",
    "display(f\"dtype: {outputs.dtype}, shape: {outputs.shape}\")\n",
    "display(outputs)"
   ]
  },
  {
   "cell_type": "markdown",
   "id": "e46375e0-1775-4aeb-8de1-c5284859b288",
   "metadata": {},
   "source": [
    "- モデルは線形変換のみであるため、出力はまだ、回帰と同じ連続値。\n",
    "- それを各クラス10個毎の確率値にsoftmaxで変換するため、softmaxを使う。\n",
    "  - softmaxは10個中最大の値をとるものが1に近づき、それ以外が0に近づき、合計が1となるような変換。"
   ]
  },
  {
   "cell_type": "code",
   "execution_count": 14,
   "id": "f7668161-37ef-40c4-859e-6d09f955e9cb",
   "metadata": {},
   "outputs": [
    {
     "data": {
      "text/plain": [
       "'dtype: torch.float32, shape: torch.Size([128, 10])'"
      ]
     },
     "metadata": {},
     "output_type": "display_data"
    },
    {
     "data": {
      "text/plain": [
       "tensor([[0.0867, 0.0757, 0.0900,  ..., 0.1089, 0.1088, 0.1312],\n",
       "        [0.1037, 0.0844, 0.0989,  ..., 0.1017, 0.1232, 0.1070],\n",
       "        [0.0534, 0.1112, 0.1287,  ..., 0.0965, 0.1085, 0.0919],\n",
       "        ...,\n",
       "        [0.0923, 0.0964, 0.0876,  ..., 0.0981, 0.0958, 0.1179],\n",
       "        [0.0868, 0.0768, 0.0990,  ..., 0.1392, 0.0969, 0.1217],\n",
       "        [0.1062, 0.1105, 0.0819,  ..., 0.0812, 0.0881, 0.1223]],\n",
       "       grad_fn=<SoftmaxBackward>)"
      ]
     },
     "metadata": {},
     "output_type": "display_data"
    }
   ],
   "source": [
    "import torch.nn.functional as F\n",
    "\n",
    "probs = F.softmax(outputs, dim=1)\n",
    "display(f\"dtype: {probs.dtype}, shape: {probs.shape}\")\n",
    "display(probs)"
   ]
  },
  {
   "cell_type": "markdown",
   "id": "786a00de-8b9d-4200-9632-1e469edd8c75",
   "metadata": {},
   "source": [
    "- 1sampleだけ例を見てみるが、まだ学習していないため、どの値もそんなに変わらない値"
   ]
  },
  {
   "cell_type": "code",
   "execution_count": 15,
   "id": "195a4c95-52fd-4a2f-b1ba-4e5f65ed9826",
   "metadata": {},
   "outputs": [
    {
     "data": {
      "text/plain": [
       "tensor([0.0867, 0.0757, 0.0900, 0.0887, 0.1294, 0.1004, 0.0801, 0.1089, 0.1088,\n",
       "        0.1312], grad_fn=<SelectBackward>)"
      ]
     },
     "metadata": {},
     "output_type": "display_data"
    }
   ],
   "source": [
    "display(probs[0])"
   ]
  },
  {
   "cell_type": "markdown",
   "id": "62008577-6eb3-4aa0-9c43-3d6add4c02d2",
   "metadata": {},
   "source": [
    "- さらに最大値をとって、どのクラスにするかを決定する。\n",
    "  - maxは単純に、最大値と最大値だったindexを計算する関数。\n",
    "  - 最大値は、値の確からしさ(スコアと呼んだりする)、indexは分類結果そのものになる。"
   ]
  },
  {
   "cell_type": "code",
   "execution_count": 16,
   "id": "b06e5a1d-3e17-49fa-b231-cadb6122e815",
   "metadata": {
    "tags": []
   },
   "outputs": [
    {
     "data": {
      "text/plain": [
       "'dtype: torch.float32, shape: torch.Size([128])'"
      ]
     },
     "metadata": {},
     "output_type": "display_data"
    },
    {
     "data": {
      "text/plain": [
       "tensor([0.1312, 0.1232, 0.1346, 0.1229, 0.1171, 0.1450, 0.1160, 0.1331, 0.1365,\n",
       "        0.1168, 0.1322, 0.1292, 0.1391, 0.1445, 0.1126, 0.1194, 0.1285, 0.1329,\n",
       "        0.1175, 0.1357, 0.1342, 0.1410, 0.1646, 0.1149, 0.1258, 0.1349, 0.1465,\n",
       "        0.1388, 0.1227, 0.1683, 0.1311, 0.1333, 0.1463, 0.1319, 0.1136, 0.1227,\n",
       "        0.1147, 0.1208, 0.1290, 0.1215, 0.1431, 0.1196, 0.1276, 0.1241, 0.1381,\n",
       "        0.1177, 0.1482, 0.1640, 0.1261, 0.1170, 0.1232, 0.1291, 0.1210, 0.1350,\n",
       "        0.1268, 0.1394, 0.1496, 0.1187, 0.1285, 0.1368, 0.1285, 0.1233, 0.1169,\n",
       "        0.1253, 0.1180, 0.1186, 0.1401, 0.1269, 0.1384, 0.1301, 0.1212, 0.1329,\n",
       "        0.1172, 0.1520, 0.1401, 0.1306, 0.1544, 0.1370, 0.1316, 0.1393, 0.1225,\n",
       "        0.1186, 0.1279, 0.1202, 0.1256, 0.1268, 0.1316, 0.1214, 0.1193, 0.1248,\n",
       "        0.1220, 0.1307, 0.1227, 0.1311, 0.1374, 0.1177, 0.1330, 0.1162, 0.1126,\n",
       "        0.1128, 0.1330, 0.1304, 0.1344, 0.1276, 0.1352, 0.1359, 0.1308, 0.1154,\n",
       "        0.1565, 0.1310, 0.1182, 0.1510, 0.1327, 0.1177, 0.1209, 0.1266, 0.1321,\n",
       "        0.1223, 0.1449, 0.1377, 0.1418, 0.1316, 0.1218, 0.1150, 0.1516, 0.1282,\n",
       "        0.1392, 0.1223], grad_fn=<MaxBackward0>)"
      ]
     },
     "metadata": {},
     "output_type": "display_data"
    },
    {
     "data": {
      "text/plain": [
       "'dtype: torch.int64, shape: torch.Size([128])'"
      ]
     },
     "metadata": {},
     "output_type": "display_data"
    },
    {
     "data": {
      "text/plain": [
       "tensor([9, 8, 6, 4, 3, 8, 5, 7, 7, 2, 4, 7, 7, 7, 2, 8, 9, 8, 7, 9, 6, 9, 7, 9,\n",
       "        9, 9, 7, 7, 9, 7, 7, 8, 4, 4, 7, 7, 5, 9, 8, 6, 4, 4, 8, 7, 6, 7, 7, 7,\n",
       "        6, 3, 2, 6, 9, 6, 9, 2, 7, 4, 6, 4, 6, 7, 9, 7, 2, 2, 7, 8, 9, 7, 8, 7,\n",
       "        8, 7, 1, 8, 7, 6, 7, 6, 4, 6, 9, 5, 7, 8, 9, 8, 4, 4, 3, 4, 4, 8, 4, 3,\n",
       "        7, 9, 7, 4, 4, 4, 7, 6, 4, 7, 8, 9, 7, 6, 9, 9, 9, 7, 8, 8, 7, 8, 6, 7,\n",
       "        8, 2, 4, 3, 7, 5, 7, 9])"
      ]
     },
     "metadata": {},
     "output_type": "display_data"
    }
   ],
   "source": [
    "max_probs, preds = torch.max(probs, dim=1)\n",
    "display(f\"dtype: {max_probs.dtype}, shape: {max_probs.shape}\")\n",
    "display(max_probs)\n",
    "\n",
    "display(f\"dtype: {preds.dtype}, shape: {preds.shape}\")\n",
    "display(preds)"
   ]
  },
  {
   "cell_type": "markdown",
   "id": "fb0a3acc-0833-496a-b233-f8cd646b0889",
   "metadata": {},
   "source": [
    "### lossに関する議論\n",
    "  - 分類問題の評価には、正解率などを求めます。\n",
    "  - しかしこれをlossとして使用するのは一般的ではありません。理由は以下です。\n",
    "    - 正解率は微分可能な関数ではない（不連続値をとる）。\n",
    "    - 離散的な値のため、改善のために正確なフィードバックを得られない。\n",
    "  - 一般的には、クロスエントロピーを使います。\n",
    "    - クスエントロピーは、2つの確率分布が同じであるほど、小さくなる関数です。\n",
    "  - クロスエントロピーは、pytorchに関数として用意されています。\n",
    "  - この関数は、log_softmaxとnll_lossが入っているので、softmaxしなくてよくなるみたい。"
   ]
  },
  {
   "cell_type": "code",
   "execution_count": 17,
   "id": "95b7aced-9b4e-48c8-b6f7-546cf5f3ebce",
   "metadata": {},
   "outputs": [
    {
     "name": "stdout",
     "output_type": "stream",
     "text": [
      "tensor(2.3046, grad_fn=<NllLossBackward>)\n"
     ]
    }
   ],
   "source": [
    "loss_fn = F.cross_entropy\n",
    "loss = loss_fn(outputs, labels)\n",
    "print(loss)"
   ]
  },
  {
   "cell_type": "markdown",
   "id": "69a550f8-0c92-4ec8-b864-a6ed38418319",
   "metadata": {},
   "source": [
    "### Fit\n",
    "- training_stepなどがmodelの中に入るのは、個人的には苦手な実装"
   ]
  },
  {
   "cell_type": "code",
   "execution_count": 18,
   "id": "c48dc7b2-e0c6-4ea9-8e39-2a7f868a6714",
   "metadata": {},
   "outputs": [],
   "source": [
    "def fit(epochs, lr, model, train_loader, val_loader, opt_func=torch.optim.SGD):\n",
    "\n",
    "    optimizer = opt_func(model.parameters(), lr)\n",
    "    history = [] # for recording epoch-wise results\n",
    "    \n",
    "    for epoch in range(epochs):\n",
    "        \n",
    "        # Training Phase \n",
    "        for images, labels in train_loader:\n",
    "            \n",
    "            outputs = model(images)\n",
    "            loss = F.cross_entropy(outputs, labels)\n",
    "            loss.backward()\n",
    "            optimizer.step()\n",
    "            optimizer.zero_grad()\n",
    "        \n",
    "        train_loss, train_acc = evaluate(model, train_loader)\n",
    "        \n",
    "        # Validation phase\n",
    "        val_loss, val_acc = evaluate(model, val_loader)\n",
    "        \n",
    "        print(f\"Epoch: {epoch}, \", end=\"\")\n",
    "        print(f\"train_loss: {train_loss:.3f}, train_acc: {train_acc:.3f}, \", end=\"\")\n",
    "        print(f\"val_loss: {val_loss:.3f}, val_acc: {val_acc:.3f}\")\n",
    "        \n",
    "        history.append({\"train_loss\": train_loss, \n",
    "                        \"train_acc\": train_acc, \n",
    "                        \"val_loss\": val_loss, \n",
    "                        \"val_acc\": val_acc,\n",
    "                       })\n",
    "\n",
    "    return history\n",
    "\n",
    "def evaluate(model, val_loader):\n",
    "    \n",
    "    loss_list = []\n",
    "    acc_list = []\n",
    "    \n",
    "    for images, labels in val_loader:\n",
    "        \n",
    "        outputs = model(images)\n",
    "        \n",
    "        loss = F.cross_entropy(outputs, labels)\n",
    "        loss_list.append(loss)\n",
    "        \n",
    "        acc = accuracy(outputs, labels)\n",
    "        acc_list.append(acc)\n",
    "        \n",
    "    loss_mean = torch.stack(loss_list).mean().item()\n",
    "    acc_mean = torch.stack(acc_list).mean().item()\n",
    "    \n",
    "    return loss_mean, acc_mean\n",
    "\n",
    "def accuracy(outputs, labels):\n",
    "    _, preds = torch.max(outputs, dim=1)\n",
    "    return torch.tensor(torch.sum(preds == labels).item() / len(preds))"
   ]
  },
  {
   "cell_type": "markdown",
   "id": "e6ff4ff0-4a5d-40c1-87a9-3cf8ef3a6f77",
   "metadata": {},
   "source": [
    "- evaluateができるかチェック"
   ]
  },
  {
   "cell_type": "code",
   "execution_count": 19,
   "id": "f08a5d17-1294-496b-b355-85ca1d291ce5",
   "metadata": {},
   "outputs": [
    {
     "data": {
      "text/plain": [
       "(2.2873551845550537, 0.09088212251663208)"
      ]
     },
     "execution_count": 19,
     "metadata": {},
     "output_type": "execute_result"
    }
   ],
   "source": [
    "model = CustomModel(images.shape, 10)\n",
    "evaluate(model, val_loader)"
   ]
  },
  {
   "cell_type": "markdown",
   "id": "ea90b8a9-11db-40f4-9ced-82b7bc964c61",
   "metadata": {},
   "source": [
    "- 学習は、30epochくらい一気にやる。"
   ]
  },
  {
   "cell_type": "code",
   "execution_count": 20,
   "id": "7231073b-d280-4897-9275-fdc9e336dd09",
   "metadata": {},
   "outputs": [
    {
     "name": "stdout",
     "output_type": "stream",
     "text": [
      "Epoch: 0, train_loss: 1.929, train_acc: 0.643, val_loss: 1.927, val_acc: 0.641\n",
      "Epoch: 1, train_loss: 1.665, train_acc: 0.729, val_loss: 1.661, val_acc: 0.730\n",
      "Epoch: 2, train_loss: 1.468, train_acc: 0.762, val_loss: 1.464, val_acc: 0.769\n",
      "Epoch: 3, train_loss: 1.320, train_acc: 0.783, val_loss: 1.315, val_acc: 0.789\n",
      "Epoch: 4, train_loss: 1.205, train_acc: 0.796, val_loss: 1.200, val_acc: 0.802\n",
      "Epoch: 5, train_loss: 1.115, train_acc: 0.805, val_loss: 1.109, val_acc: 0.811\n",
      "Epoch: 6, train_loss: 1.043, train_acc: 0.812, val_loss: 1.037, val_acc: 0.819\n",
      "Epoch: 7, train_loss: 0.983, train_acc: 0.818, val_loss: 0.977, val_acc: 0.825\n",
      "Epoch: 8, train_loss: 0.934, train_acc: 0.823, val_loss: 0.927, val_acc: 0.830\n",
      "Epoch: 9, train_loss: 0.892, train_acc: 0.827, val_loss: 0.885, val_acc: 0.834\n",
      "Epoch: 10, train_loss: 0.856, train_acc: 0.831, val_loss: 0.849, val_acc: 0.838\n",
      "Epoch: 11, train_loss: 0.825, train_acc: 0.834, val_loss: 0.818, val_acc: 0.840\n",
      "Epoch: 12, train_loss: 0.798, train_acc: 0.837, val_loss: 0.790, val_acc: 0.842\n",
      "Epoch: 13, train_loss: 0.774, train_acc: 0.840, val_loss: 0.766, val_acc: 0.845\n",
      "Epoch: 14, train_loss: 0.752, train_acc: 0.842, val_loss: 0.744, val_acc: 0.848\n",
      "Epoch: 15, train_loss: 0.733, train_acc: 0.844, val_loss: 0.725, val_acc: 0.849\n",
      "Epoch: 16, train_loss: 0.715, train_acc: 0.846, val_loss: 0.707, val_acc: 0.851\n",
      "Epoch: 17, train_loss: 0.700, train_acc: 0.848, val_loss: 0.691, val_acc: 0.853\n",
      "Epoch: 18, train_loss: 0.685, train_acc: 0.849, val_loss: 0.677, val_acc: 0.855\n",
      "Epoch: 19, train_loss: 0.672, train_acc: 0.851, val_loss: 0.663, val_acc: 0.857\n",
      "Epoch: 20, train_loss: 0.660, train_acc: 0.852, val_loss: 0.651, val_acc: 0.859\n",
      "Epoch: 21, train_loss: 0.648, train_acc: 0.854, val_loss: 0.639, val_acc: 0.861\n",
      "Epoch: 22, train_loss: 0.638, train_acc: 0.855, val_loss: 0.629, val_acc: 0.862\n",
      "Epoch: 23, train_loss: 0.628, train_acc: 0.856, val_loss: 0.619, val_acc: 0.863\n",
      "Epoch: 24, train_loss: 0.619, train_acc: 0.857, val_loss: 0.610, val_acc: 0.865\n",
      "Epoch: 25, train_loss: 0.611, train_acc: 0.858, val_loss: 0.601, val_acc: 0.867\n",
      "Epoch: 26, train_loss: 0.603, train_acc: 0.860, val_loss: 0.593, val_acc: 0.868\n",
      "Epoch: 27, train_loss: 0.595, train_acc: 0.860, val_loss: 0.585, val_acc: 0.868\n",
      "Epoch: 28, train_loss: 0.588, train_acc: 0.862, val_loss: 0.578, val_acc: 0.869\n",
      "Epoch: 29, train_loss: 0.581, train_acc: 0.862, val_loss: 0.571, val_acc: 0.870\n"
     ]
    }
   ],
   "source": [
    "history = fit(30, 0.001, model, train_loader, val_loader)"
   ]
  },
  {
   "cell_type": "code",
   "execution_count": 21,
   "id": "78c0d83e-1625-4259-8697-3d3758793bb6",
   "metadata": {},
   "outputs": [
    {
     "data": {
      "image/png": "[encoded data removed]",
      "text/plain": [
       "<Figure size 432x288 with 1 Axes>"
      ]
     },
     "metadata": {
      "needs_background": "light"
     },
     "output_type": "display_data"
    }
   ],
   "source": [
    "accuracies = [result['val_acc'] for result in history]\n",
    "plt.plot(accuracies, '-x')\n",
    "plt.xlabel('epoch')\n",
    "plt.ylabel('accuracy')\n",
    "plt.title('Accuracy vs. No. of epochs');"
   ]
  },
  {
   "cell_type": "markdown",
   "id": "34998316-9f2d-4b02-a861-5893eb7580a6",
   "metadata": {},
   "source": [
    "- 精度が悪い理由がいくつか書かれているが、他にもいろいろあると思われる。\n",
    "  - 言及されている通り、learning rateが大きすぎる。\n",
    "    - そもそも固定ではない方法のほうが良い。\n",
    "  - そもそも全結合では、位置情報が使われないことになるため、画像には向いてない。\n",
    "    - 例えば、隣接する画素が、隣接していることが、直接的に使われていない。\n",
    "    - これは、Convを使う大きな理由である。\n",
    "  - 入力の変動に頑健ではない。\n",
    "    - ここはBachNormalizationを使うのが標準的だ。\n",
    "  - 言及されている通り単純に層が浅いので、モデルが単純すぎる。"
   ]
  },
  {
   "cell_type": "markdown",
   "id": "acdb63cd-1682-4bf1-a55c-6c8318410d55",
   "metadata": {},
   "source": [
    "### 推論テスト"
   ]
  },
  {
   "cell_type": "code",
   "execution_count": 22,
   "id": "4e94b7bf-72cc-4310-9f76-2e0eadf21a10",
   "metadata": {},
   "outputs": [
    {
     "name": "stdout",
     "output_type": "stream",
     "text": [
      "Label: 7 , Predicted: 7\n"
     ]
    },
    {
     "data": {
      "image/png": "[encoded data removed]",
      "text/plain": [
       "<Figure size 432x288 with 1 Axes>"
      ]
     },
     "metadata": {
      "needs_background": "light"
     },
     "output_type": "display_data"
    }
   ],
   "source": [
    "def predict_image(img, model):\n",
    "    xb = img.unsqueeze(0)\n",
    "    yb = model(xb)\n",
    "    _, preds = torch.max(yb, dim=1)\n",
    "    return preds[0].item()\n",
    "\n",
    "img, label = test_ds[0]\n",
    "plt.imshow(img[0], cmap='gray')\n",
    "print('Label:', label, ', Predicted:', predict_image(img, model))"
   ]
  },
  {
   "cell_type": "code",
   "execution_count": 23,
   "id": "6f23eedf-20b4-465b-8e5c-ec9b784e2151",
   "metadata": {},
   "outputs": [
    {
     "data": {
      "text/plain": [
       "0.5516924858093262"
      ]
     },
     "metadata": {},
     "output_type": "display_data"
    },
    {
     "data": {
      "text/plain": [
       "0.871386706829071"
      ]
     },
     "metadata": {},
     "output_type": "display_data"
    }
   ],
   "source": [
    "test_loader = DataLoader(test_ds, batch_size=256)\n",
    "test_loss, test_acc = evaluate(model, test_loader)\n",
    "display(test_loss, test_acc)"
   ]
  },
  {
   "cell_type": "markdown",
   "id": "dc994fcb-ea55-4cf2-80c3-19d55b811b77",
   "metadata": {},
   "source": [
    "### モデルの保存\n",
    "\n",
    "- OrderdDictで保存される。(順番が保証される辞書型)"
   ]
  },
  {
   "cell_type": "code",
   "execution_count": 24,
   "id": "dbc033ee-4e1e-4c2d-a68f-a1eaa84145f4",
   "metadata": {},
   "outputs": [
    {
     "data": {
      "text/plain": [
       "OrderedDict([('linear.weight',\n",
       "              tensor([[ 0.0209,  0.0305,  0.0310,  ...,  0.0299, -0.0032,  0.0341],\n",
       "                      [-0.0086, -0.0340, -0.0288,  ...,  0.0074, -0.0194,  0.0109],\n",
       "                      [ 0.0091, -0.0291,  0.0321,  ...,  0.0038, -0.0173,  0.0219],\n",
       "                      ...,\n",
       "                      [-0.0261,  0.0298,  0.0119,  ..., -0.0328, -0.0123,  0.0261],\n",
       "                      [ 0.0275,  0.0201,  0.0211,  ..., -0.0247, -0.0332, -0.0274],\n",
       "                      [-0.0099,  0.0290, -0.0285,  ..., -0.0001,  0.0057, -0.0238]])),\n",
       "             ('linear.bias',\n",
       "              tensor([-0.0651,  0.1007, -0.0422, -0.0246,  0.0562,  0.0986,  0.0152,  0.0374,\n",
       "                      -0.0998,  0.0116]))])"
      ]
     },
     "execution_count": 24,
     "metadata": {},
     "output_type": "execute_result"
    }
   ],
   "source": [
    "model.state_dict()"
   ]
  },
  {
   "cell_type": "markdown",
   "id": "e9ddba55-9985-4b60-94fd-059120e6ae59",
   "metadata": {},
   "source": [
    "- 保存"
   ]
  },
  {
   "cell_type": "code",
   "execution_count": 27,
   "id": "f8db2d57-a4f1-4bd0-8740-e5e5b8035401",
   "metadata": {},
   "outputs": [],
   "source": [
    "torch.save(model.state_dict(), OUTPUT_MODEL_FILE)"
   ]
  },
  {
   "cell_type": "markdown",
   "id": "275d91d8-4117-4819-a8cc-5218cf048b7a",
   "metadata": {},
   "source": [
    "### モデル読み込みと推論"
   ]
  },
  {
   "cell_type": "code",
   "execution_count": 32,
   "id": "0e18a0a7-499a-41bc-9895-fa24a0f194b7",
   "metadata": {},
   "outputs": [
    {
     "data": {
      "text/plain": [
       "(2.2983899116516113, 0.142578125)"
      ]
     },
     "metadata": {},
     "output_type": "display_data"
    },
    {
     "data": {
      "text/plain": [
       "(0.5516924858093262, 0.871386706829071)"
      ]
     },
     "metadata": {},
     "output_type": "display_data"
    }
   ],
   "source": [
    "model2 = CustomModel(images.shape, 10)\n",
    "display(evaluate(model2, test_loader))\n",
    "\n",
    "model2.load_state_dict(torch.load(OUTPUT_MODEL_FILE))\n",
    "display(evaluate(model2, test_loader))"
   ]
  },
  {
   "cell_type": "code",
   "execution_count": 33,
   "id": "d30dc1fd-7198-45ac-b01d-3140d5dc3dc2",
   "metadata": {},
   "outputs": [
    {
     "data": {
      "application/javascript": [
       "if (window.IPython && IPython.notebook.kernel) IPython.notebook.kernel.execute('jovian.utils.jupyter.get_notebook_name_saved = lambda: \"' + IPython.notebook.notebook_name + '\"')"
      ],
      "text/plain": [
       "<IPython.core.display.Javascript object>"
      ]
     },
     "metadata": {},
     "output_type": "display_data"
    },
    {
     "data": {
      "application/javascript": [
       "window.require && require([\"base/js/namespace\"],function(Jupyter){Jupyter.notebook.save_checkpoint()})"
      ],
      "text/plain": [
       "<IPython.core.display.Javascript object>"
      ]
     },
     "metadata": {},
     "output_type": "display_data"
    },
    {
     "name": "stdout",
     "output_type": "stream",
     "text": [
      "[jovian] Creating a new project \"nokomoro3/pytorch-tutorial-03-mnist-logistic\"\u001b[0m\n",
      "[jovian] Committed successfully! https://jovian.ai/nokomoro3/pytorch-tutorial-03-mnist-logistic\u001b[0m\n"
     ]
    },
    {
     "data": {
      "text/plain": [
       "'https://jovian.ai/nokomoro3/pytorch-tutorial-03-mnist-logistic'"
      ]
     },
     "execution_count": 33,
     "metadata": {},
     "output_type": "execute_result"
    }
   ],
   "source": [
    "import jovian\n",
    "jovian.commit(project='pytorch-tutorial-03-mnist-logistic', filename='03_mnist_logistic.ipynb')"
   ]
  }
 ],
 "metadata": {
  "kernelspec": {
   "display_name": "app",
   "language": "python",
   "name": "app"
  },
  "language_info": {
   "codemirror_mode": {
    "name": "ipython",
    "version": 3
   },
   "file_extension": ".py",
   "mimetype": "text/x-python",
   "name": "python",
   "nbconvert_exporter": "python",
   "pygments_lexer": "ipython3",
   "version": "3.8.12"
  }
 },
 "nbformat": 4,
 "nbformat_minor": 5
}
